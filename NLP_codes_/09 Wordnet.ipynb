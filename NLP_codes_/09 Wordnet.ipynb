{
 "cells": [
  {
   "cell_type": "code",
   "execution_count": 2,
   "id": "aa2cc1f0",
   "metadata": {},
   "outputs": [],
   "source": [
    "from nltk.corpus import wordnet"
   ]
  },
  {
   "cell_type": "markdown",
   "id": "45c5cc8b",
   "metadata": {},
   "source": [
    "#### Retrieve the synonyms"
   ]
  },
  {
   "cell_type": "code",
   "execution_count": 4,
   "id": "42b50d45",
   "metadata": {},
   "outputs": [
    {
     "data": {
      "text/plain": [
       "[Synset('make.v.03'),\n",
       " Synset('create.v.02'),\n",
       " Synset('create.v.03'),\n",
       " Synset('create.v.04'),\n",
       " Synset('create.v.05'),\n",
       " Synset('produce.v.02')]"
      ]
     },
     "execution_count": 4,
     "metadata": {},
     "output_type": "execute_result"
    }
   ],
   "source": [
    "x = wordnet.synsets('create')\n",
    "x"
   ]
  },
  {
   "cell_type": "code",
   "execution_count": 21,
   "id": "d37b3c6a",
   "metadata": {},
   "outputs": [],
   "source": [
    "synonyms = set()\n",
    "\n",
    "for word in wordnet.synsets('create'):\n",
    "    synonyms.add(word.lemmas()[0].name())"
   ]
  },
  {
   "cell_type": "code",
   "execution_count": 22,
   "id": "322deec1",
   "metadata": {},
   "outputs": [
    {
     "data": {
      "text/plain": [
       "{'create', 'make', 'produce'}"
      ]
     },
     "execution_count": 22,
     "metadata": {},
     "output_type": "execute_result"
    }
   ],
   "source": [
    "synonyms"
   ]
  },
  {
   "cell_type": "markdown",
   "id": "ddf12145",
   "metadata": {},
   "source": [
    "#### Definition and examples"
   ]
  },
  {
   "cell_type": "code",
   "execution_count": 36,
   "id": "cda36b93",
   "metadata": {},
   "outputs": [
    {
     "name": "stdout",
     "output_type": "stream",
     "text": [
      "Word and Type : post.n.01\n",
      "Synonym : post\n",
      "The meaning of the word : the position where someone (as a guard or sentry) stands or is assigned to stand\n",
      "Example : ['a soldier manned the entrance post', 'a sentry station']\n"
     ]
    }
   ],
   "source": [
    "synset = wordnet.synsets(\"post\")\n",
    "print('Word and Type : ' + synset[0].name())\n",
    "print('Synonym : ' + synset[0].lemmas()[0].name())\n",
    "print('The meaning of the word : ' + synset[0].definition())\n",
    "print('Example : ' + str(synset[0].examples()))"
   ]
  },
  {
   "cell_type": "code",
   "execution_count": 46,
   "id": "00368c89",
   "metadata": {},
   "outputs": [
    {
     "name": "stdout",
     "output_type": "stream",
     "text": [
      "Word and Type : mail.n.04\n",
      "Synonym : mail\n",
      "The meaning of the word : any particular collection of letters or packages that is delivered\n",
      "Example : ['your mail is on the table', 'is there any post for me?', 'she was opening her post']\n"
     ]
    }
   ],
   "source": [
    "synset = wordnet.synsets(\"post\")\n",
    "print('Word and Type : ' + synset[7].name())\n",
    "print('Synonym : ' + synset[7].lemmas()[0].name())\n",
    "print('The meaning of the word : ' + synset[7].definition())\n",
    "print('Example : ' + str(synset[7].examples()))"
   ]
  },
  {
   "cell_type": "code",
   "execution_count": 58,
   "id": "2233b695",
   "metadata": {},
   "outputs": [
    {
     "name": "stdout",
     "output_type": "stream",
     "text": [
      "sound.n.01\n",
      "sound.n.02\n",
      "sound.n.03\n",
      "sound.n.04\n",
      "audio.n.01\n",
      "phone.n.02\n",
      "strait.n.01\n",
      "sound.n.08\n",
      "sound.v.01\n",
      "sound.v.02\n",
      "sound.v.03\n",
      "sound.v.04\n",
      "voice.v.02\n",
      "sound.v.06\n",
      "fathom.v.02\n",
      "sound.a.01\n",
      "healthy.s.04\n",
      "sound.a.03\n",
      "good.s.17\n",
      "reasoned.s.01\n",
      "legal.s.03\n",
      "sound.s.07\n",
      "heavy.s.26\n",
      "sound.s.09\n"
     ]
    }
   ],
   "source": [
    "for word in wordnet.synsets('sound'):\n",
    "    print(word.name())"
   ]
  },
  {
   "cell_type": "code",
   "execution_count": 59,
   "id": "fc682bc8",
   "metadata": {},
   "outputs": [],
   "source": [
    "# Read a word from user and print all meanings of it.\n",
    "# Read a word from user and print all noun meanings of it."
   ]
  },
  {
   "cell_type": "code",
   "execution_count": 70,
   "id": "7ef043c9",
   "metadata": {},
   "outputs": [
    {
     "name": "stdout",
     "output_type": "stream",
     "text": [
      "Enter a word: sound\n",
      "Meanings of sound are:\n",
      "sound.n.01 the particular auditory effect produced by a given cause\n",
      "sound.n.02 the subjective sensation of hearing something\n",
      "sound.n.03 mechanical vibrations transmitted by an elastic medium\n",
      "sound.n.04 the sudden occurrence of an audible event\n",
      "audio.n.01 the audible part of a transmitted signal\n",
      "phone.n.02 (phonetics) an individual sound unit of speech without concern as to whether or not it is a phoneme of some language\n",
      "strait.n.01 a narrow channel of the sea joining two larger bodies of water\n",
      "sound.n.08 a large ocean inlet or deep bay\n"
     ]
    }
   ],
   "source": [
    "word = input('Enter a word: ')\n",
    "print('Meanings of',word,'are:')\n",
    "\n",
    "count = 0\n",
    "for word in wordnet.synsets(word):\n",
    "    if '.n.' in word.name():\n",
    "        print(word.name(), word.definition())"
   ]
  },
  {
   "cell_type": "code",
   "execution_count": 74,
   "id": "f6aacacc",
   "metadata": {},
   "outputs": [
    {
     "name": "stdout",
     "output_type": "stream",
     "text": [
      "Enter a word: sound\n",
      "Meanings of sound are:\n",
      "sound.n.01 the particular auditory effect produced by a given cause\n",
      "sound.n.02 the subjective sensation of hearing something\n",
      "sound.n.03 mechanical vibrations transmitted by an elastic medium\n",
      "sound.n.04 the sudden occurrence of an audible event\n",
      "audio.n.01 the audible part of a transmitted signal\n",
      "phone.n.02 (phonetics) an individual sound unit of speech without concern as to whether or not it is a phoneme of some language\n",
      "strait.n.01 a narrow channel of the sea joining two larger bodies of water\n",
      "sound.n.08 a large ocean inlet or deep bay\n"
     ]
    }
   ],
   "source": [
    "word = input('Enter a word: ')\n",
    "print('Meanings of',word,'are:')\n",
    "\n",
    "count = 0\n",
    "for word in wordnet.synsets(word):\n",
    "    name = str(word.name()).split('.')\n",
    "    if name[1] == 'n':\n",
    "        print(word.name(), word.definition())"
   ]
  },
  {
   "cell_type": "code",
   "execution_count": 75,
   "id": "dc3af76c",
   "metadata": {},
   "outputs": [
    {
     "name": "stdout",
     "output_type": "stream",
     "text": [
      "Enter a word: sound\n",
      "Meanings of sound are:\n",
      "sound.n.01 the particular auditory effect produced by a given cause\n",
      "sound.n.02 the subjective sensation of hearing something\n",
      "sound.n.03 mechanical vibrations transmitted by an elastic medium\n",
      "sound.n.04 the sudden occurrence of an audible event\n",
      "audio.n.01 the audible part of a transmitted signal\n",
      "phone.n.02 (phonetics) an individual sound unit of speech without concern as to whether or not it is a phoneme of some language\n",
      "strait.n.01 a narrow channel of the sea joining two larger bodies of water\n",
      "sound.n.08 a large ocean inlet or deep bay\n"
     ]
    }
   ],
   "source": [
    "word = input('Enter a word: ')\n",
    "print('Meanings of',word,'are:')\n",
    "\n",
    "count = 0\n",
    "for word in wordnet.synsets(word, pos='n'):\n",
    "    print(word.name(), word.definition())"
   ]
  },
  {
   "cell_type": "markdown",
   "id": "8a52d4c1",
   "metadata": {},
   "source": [
    "#### Extract specific pos from word"
   ]
  },
  {
   "cell_type": "code",
   "execution_count": 86,
   "id": "fdd9c170",
   "metadata": {},
   "outputs": [],
   "source": [
    "verbs = set()\n",
    "nouns = set()\n",
    "adj = set()\n",
    "for word in wordnet.synsets('sound', pos='n'):\n",
    "    nouns.add(word.lemmas()[0].name())\n",
    "for word in wordnet.synsets('sound', pos='v'):\n",
    "    verbs.add(word.lemmas()[0].name())\n",
    "for word in wordnet.synsets('sound', pos='a'):\n",
    "    adj.add(word.lemmas()[0].name())"
   ]
  },
  {
   "cell_type": "code",
   "execution_count": 85,
   "id": "671fcdb3",
   "metadata": {},
   "outputs": [
    {
     "data": {
      "text/plain": [
       "{'audio', 'phone', 'sound', 'strait'}"
      ]
     },
     "execution_count": 85,
     "metadata": {},
     "output_type": "execute_result"
    }
   ],
   "source": [
    "nouns"
   ]
  },
  {
   "cell_type": "code",
   "execution_count": 87,
   "id": "4b5990a0",
   "metadata": {},
   "outputs": [
    {
     "data": {
      "text/plain": [
       "{'fathom', 'sound', 'voice'}"
      ]
     },
     "execution_count": 87,
     "metadata": {},
     "output_type": "execute_result"
    }
   ],
   "source": [
    "verbs"
   ]
  },
  {
   "cell_type": "code",
   "execution_count": 88,
   "id": "bcd716bf",
   "metadata": {},
   "outputs": [
    {
     "data": {
      "text/plain": [
       "{'good', 'healthy', 'heavy', 'legal', 'reasoned', 'sound'}"
      ]
     },
     "execution_count": 88,
     "metadata": {},
     "output_type": "execute_result"
    }
   ],
   "source": [
    "adj"
   ]
  },
  {
   "cell_type": "markdown",
   "id": "51043e1c",
   "metadata": {},
   "source": [
    "#### Extract the antonyms / opposite words"
   ]
  },
  {
   "cell_type": "code",
   "execution_count": 97,
   "id": "cc4ec22d",
   "metadata": {},
   "outputs": [
    {
     "name": "stdout",
     "output_type": "stream",
     "text": [
      "Antonyms:  {'malfunction', 'idle'}\n"
     ]
    }
   ],
   "source": [
    "ant = set()\n",
    "for synset in wordnet.synsets(\"run\"):\n",
    "    for lemma in synset.lemmas():\n",
    "        if lemma.antonyms():    #When antonyms are available, add them into the list\n",
    "            ant.add(lemma.antonyms()[0].name())\n",
    "print('Antonyms: ', ant)"
   ]
  },
  {
   "cell_type": "code",
   "execution_count": null,
   "id": "567c8d61",
   "metadata": {},
   "outputs": [],
   "source": []
  }
 ],
 "metadata": {
  "kernelspec": {
   "display_name": "Python 3",
   "language": "python",
   "name": "python3"
  },
  "language_info": {
   "codemirror_mode": {
    "name": "ipython",
    "version": 3
   },
   "file_extension": ".py",
   "mimetype": "text/x-python",
   "name": "python",
   "nbconvert_exporter": "python",
   "pygments_lexer": "ipython3",
   "version": "3.8.10"
  }
 },
 "nbformat": 4,
 "nbformat_minor": 5
}
