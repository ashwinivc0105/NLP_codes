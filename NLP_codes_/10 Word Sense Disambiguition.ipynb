{
 "cells": [
  {
   "cell_type": "markdown",
   "id": "ec8251d1",
   "metadata": {},
   "source": [
    "#### Import the lesk algorithm"
   ]
  },
  {
   "cell_type": "code",
   "execution_count": 3,
   "id": "b52fa4e8",
   "metadata": {},
   "outputs": [],
   "source": [
    "from nltk.wsd import lesk\n",
    "from nltk.tokenize import word_tokenize"
   ]
  },
  {
   "cell_type": "code",
   "execution_count": 4,
   "id": "be402261",
   "metadata": {},
   "outputs": [],
   "source": [
    "a1= lesk(word_tokenize('This device is used to jam the signal'),'jam')"
   ]
  },
  {
   "cell_type": "code",
   "execution_count": 5,
   "id": "9c2a6ab1",
   "metadata": {},
   "outputs": [
    {
     "data": {
      "text/plain": [
       "'deliberate radiation or reflection of electromagnetic energy for the purpose of disrupting enemy use of electronic devices or systems'"
      ]
     },
     "execution_count": 5,
     "metadata": {},
     "output_type": "execute_result"
    }
   ],
   "source": [
    "a1.definition()"
   ]
  },
  {
   "cell_type": "code",
   "execution_count": 9,
   "id": "8dbeb03a",
   "metadata": {},
   "outputs": [
    {
     "data": {
      "text/plain": [
       "'get stuck and immobilized'"
      ]
     },
     "execution_count": 9,
     "metadata": {},
     "output_type": "execute_result"
    }
   ],
   "source": [
    "a3= lesk(word_tokenize('I am stuck in a traffic jam'),'jam')\n",
    "a3.definition()"
   ]
  },
  {
   "cell_type": "code",
   "execution_count": 14,
   "id": "183481db",
   "metadata": {},
   "outputs": [
    {
     "name": "stdout",
     "output_type": "stream",
     "text": [
      "Synset('season.v.01') lend flavor to\n",
      "Synset('season.n.01') a period of the year marked by special events or activities in some field\n"
     ]
    }
   ],
   "source": [
    "b1= lesk(word_tokenize('Apply spices to the chicken to season it'),\n",
    "         'season')\n",
    "print(b1,b1.definition())\n",
    "b2= lesk(word_tokenize('India receives a lot of rain in the rainy season'),\n",
    "         'season')\n",
    "print(b2,b2.definition())"
   ]
  },
  {
   "cell_type": "code",
   "execution_count": 18,
   "id": "21345f74",
   "metadata": {},
   "outputs": [
    {
     "data": {
      "text/plain": [
       "(Synset('catch.v.01'),\n",
       " 'discover or come upon accidentally, suddenly, or unexpectedly; catch somebody doing something or in a certain state')"
      ]
     },
     "execution_count": 18,
     "metadata": {},
     "output_type": "execute_result"
    }
   ],
   "source": [
    "c1= lesk(word_tokenize('It was a good catch by player.'),'catch')\n",
    "c1, c1.definition()"
   ]
  },
  {
   "cell_type": "code",
   "execution_count": 19,
   "id": "8c2b5cc1",
   "metadata": {},
   "outputs": [
    {
     "data": {
      "text/plain": [
       "(Synset('overtake.v.01'), 'catch up with and possibly overtake')"
      ]
     },
     "execution_count": 19,
     "metadata": {},
     "output_type": "execute_result"
    }
   ],
   "source": [
    "c2= lesk(word_tokenize('You can catch that opportunity'),'catch')\n",
    "c2, c2.definition()"
   ]
  },
  {
   "cell_type": "code",
   "execution_count": 22,
   "id": "ef5ebdb4",
   "metadata": {},
   "outputs": [
    {
     "data": {
      "text/plain": [
       "(Synset('wish.v.02'), 'prefer or wish to do something')"
      ]
     },
     "execution_count": 22,
     "metadata": {},
     "output_type": "execute_result"
    }
   ],
   "source": [
    "d1= lesk(word_tokenize('He like flowers.'),'like')\n",
    "d1, d1.definition()"
   ]
  },
  {
   "cell_type": "code",
   "execution_count": 24,
   "id": "fac10d9b",
   "metadata": {},
   "outputs": [
    {
     "data": {
      "text/plain": [
       "(Synset('like.n.02'), 'a kind of person')"
      ]
     },
     "execution_count": 24,
     "metadata": {},
     "output_type": "execute_result"
    }
   ],
   "source": [
    "d1= lesk(word_tokenize('The association is like a bad combination'),'like')\n",
    "d1, d1.definition()"
   ]
  },
  {
   "cell_type": "code",
   "execution_count": null,
   "id": "ff2a7777",
   "metadata": {},
   "outputs": [],
   "source": []
  }
 ],
 "metadata": {
  "kernelspec": {
   "display_name": "Python 3",
   "language": "python",
   "name": "python3"
  },
  "language_info": {
   "codemirror_mode": {
    "name": "ipython",
    "version": 3
   },
   "file_extension": ".py",
   "mimetype": "text/x-python",
   "name": "python",
   "nbconvert_exporter": "python",
   "pygments_lexer": "ipython3",
   "version": "3.8.10"
  }
 },
 "nbformat": 4,
 "nbformat_minor": 5
}
