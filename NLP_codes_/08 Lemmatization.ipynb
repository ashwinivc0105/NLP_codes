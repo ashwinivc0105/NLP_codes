{
 "cells": [
  {
   "cell_type": "markdown",
   "id": "a007f224",
   "metadata": {},
   "source": [
    "#### Define the word collection"
   ]
  },
  {
   "cell_type": "code",
   "execution_count": 1,
   "id": "89c923a4",
   "metadata": {},
   "outputs": [],
   "source": [
    "word1 = 'cat','catty','catlike','cats'\n",
    "word2 = 'playing','plays','played','players'\n",
    "word3 = 'go','went','gone','going','goes'\n",
    "word4 = 'goods','better','best','fasting','reachable'\n",
    "word5 = 'program','programmed','programming','programatic'"
   ]
  },
  {
   "cell_type": "markdown",
   "id": "e949b513",
   "metadata": {},
   "source": [
    "#### Wordnet Lemmatizer"
   ]
  },
  {
   "cell_type": "code",
   "execution_count": 4,
   "id": "99d28ae8",
   "metadata": {},
   "outputs": [],
   "source": [
    "from nltk.stem import WordNetLemmatizer"
   ]
  },
  {
   "cell_type": "code",
   "execution_count": 5,
   "id": "46b5d57c",
   "metadata": {},
   "outputs": [],
   "source": [
    "wnl = WordNetLemmatizer()"
   ]
  },
  {
   "cell_type": "code",
   "execution_count": 9,
   "id": "adf6d556",
   "metadata": {},
   "outputs": [
    {
     "name": "stdout",
     "output_type": "stream",
     "text": [
      "good\n",
      "better\n",
      "well\n",
      "better\n"
     ]
    }
   ],
   "source": [
    "print(wnl.lemmatize(word4[1], pos='a')) # advective\n",
    "print(wnl.lemmatize(word4[1], pos='n')) # noun\n",
    "print(wnl.lemmatize(word4[1], pos='r')) # adverb\n",
    "print(wnl.lemmatize(word4[1], pos='v')) # verb"
   ]
  },
  {
   "cell_type": "code",
   "execution_count": 10,
   "id": "ae18ee7c",
   "metadata": {},
   "outputs": [
    {
     "name": "stdout",
     "output_type": "stream",
     "text": [
      "plays\n",
      "play\n",
      "plays\n",
      "play\n"
     ]
    }
   ],
   "source": [
    "print(wnl.lemmatize(word2[1], pos='a')) # adjective\n",
    "print(wnl.lemmatize(word2[1], pos='n')) # noun\n",
    "print(wnl.lemmatize(word2[1], pos='r')) # adverb\n",
    "print(wnl.lemmatize(word2[1], pos='v')) # verb"
   ]
  },
  {
   "cell_type": "markdown",
   "id": "2f8274ed",
   "metadata": {},
   "source": [
    "#### Find the adjectives used in the text"
   ]
  },
  {
   "cell_type": "code",
   "execution_count": 12,
   "id": "11e6b103",
   "metadata": {},
   "outputs": [],
   "source": [
    "text = '''Pune (Marathi: [puɳe] (listen); English: /ˈpuːnə/), previously known as Poona, (the official name from 1818 until 1978)[13][14] is a city in Maharashtra state in Deccan plateau in Western India. It is the administrative headquarters of the Pune district, and of Pune division. The city of Pune is part of Pune Metropolitan Region.[15] Pune is one of the largest IT hubs in India.[16][17] It is also one of the most important automobile and manufacturing hubs of India.[18] Pune is often referred to as \"Oxford of the East\" because of highly regarded educational institutions in the city.[19][20][21] It has been ranked \"the most liveable city in India\" several times.[22][23]\n",
    "Pune at different points in time has been ruled by the Rashtrakuta dynasty, Ahmadnagar Sultanate, the Mughals, and the Adil Shahi dynasty. In the 18th century, the city was a part of Maratha Empire, and the seat of the Peshwas, the prime ministers of the Maratha Empire.[24] Many historical landmarks like Pataleshwar caves,Shaniwarwada, Shinde Chhatri, and Vishrambaug Wada date to this era. Historical sites from different eras are dotted across the city.\n",
    "Pune has historically been a major cultural centre, with important figures like Dnyaneshwar, Shivaji, Tukaram, Mahadev Govind Ranade, Mahatma Jyotirao Phule, Savitribai Phule, Gopal Ganesh Agarkar, Tarabai Shinde, Dhondo Keshav Karve, and Pandita Ramabai doing their life's work in Pune City or in an area that falls in Pune Metropolitan Region. Pune was a major centre of resistance to British Raj, with people like Gopal Krishna Gokhale, Bal Gangadhar Tilak and Vinayak Damodar Savarkar playing leading roles in struggle for Indian independence in their times.'''"
   ]
  },
  {
   "cell_type": "code",
   "execution_count": 30,
   "id": "b70cb7fa",
   "metadata": {},
   "outputs": [
    {
     "data": {
      "text/plain": [
       "'Pune (Marathi: [puɳe] (listen); English: /ˈpuːnə/), previously known as Poona, (the official name from 1818 until 1978)[13][14] is a city in Maharashtra state in Deccan plateau in Western India. It is the administrative headquarters of the Pune district, and of Pune division. The city of Pune is part of Pune Metropolitan Region.[15] Pune is one of the largest IT hubs in India.[16][17] It is also one of the most important automobile and manufacturing hubs of India.[18] Pune is often referred to as \"Oxford of the East\" because of highly regarded educational institutions in the city.[19][20][21] It has been ranked \"the most liveable city in India\" several times.[22][23]\\nPune at different points in time has been ruled by the Rashtrakuta dynasty, Ahmadnagar Sultanate, the Mughals, and the Adil Shahi dynasty. In the 18th century, the city was a part of Maratha Empire, and the seat of the Peshwas, the prime ministers of the Maratha Empire.[24] Many historical landmarks like Pataleshwar caves,Shaniwarwada, Shinde Chhatri, and Vishrambaug Wada date to this era. Historical sites from different eras are dotted across the city.\\nPune has historically been a major cultural centre, with important figures like Dnyaneshwar, Shivaji, Tukaram, Mahadev Govind Ranade, Mahatma Jyotirao Phule, Savitribai Phule, Gopal Ganesh Agarkar, Tarabai Shinde, Dhondo Keshav Karve, and Pandita Ramabai doing their life\\'s work in Pune City or in an area that falls in Pune Metropolitan Region. Pune was a major centre of resistance to British Raj, with people like Gopal Krishna Gokhale, Bal Gangadhar Tilak and Vinayak Damodar Savarkar playing leading roles in struggle for Indian independence in their times.'"
      ]
     },
     "execution_count": 30,
     "metadata": {},
     "output_type": "execute_result"
    }
   ],
   "source": [
    "text"
   ]
  },
  {
   "cell_type": "code",
   "execution_count": 17,
   "id": "ad7e2132",
   "metadata": {},
   "outputs": [],
   "source": [
    "from nltk.tokenize import word_tokenize\n",
    "from nltk import pos_tag"
   ]
  },
  {
   "cell_type": "code",
   "execution_count": 16,
   "id": "0232c6ae",
   "metadata": {},
   "outputs": [],
   "source": [
    "tokens = word_tokenize(text)"
   ]
  },
  {
   "cell_type": "code",
   "execution_count": 18,
   "id": "388659cd",
   "metadata": {},
   "outputs": [],
   "source": [
    "tags = pos_tag(tokens)"
   ]
  },
  {
   "cell_type": "code",
   "execution_count": 26,
   "id": "5e5af609",
   "metadata": {},
   "outputs": [],
   "source": [
    "data = set()"
   ]
  },
  {
   "cell_type": "code",
   "execution_count": 28,
   "id": "75a169e0",
   "metadata": {},
   "outputs": [],
   "source": [
    "for word, tag in tags:\n",
    "    if tag.startswith('J') and word.isalpha():\n",
    "        data.add(wnl.lemmatize(word, pos='a').lower())"
   ]
  },
  {
   "cell_type": "code",
   "execution_count": 29,
   "id": "a672012a",
   "metadata": {},
   "outputs": [
    {
     "data": {
      "text/plain": [
       "{'administrative',\n",
       " 'cultural',\n",
       " 'different',\n",
       " 'educational',\n",
       " 'english',\n",
       " 'historical',\n",
       " 'important',\n",
       " 'indian',\n",
       " 'large',\n",
       " 'liveable',\n",
       " 'major',\n",
       " 'many',\n",
       " 'prime',\n",
       " 'regarded',\n",
       " 'several',\n",
       " 'western'}"
      ]
     },
     "execution_count": 29,
     "metadata": {},
     "output_type": "execute_result"
    }
   ],
   "source": [
    "data"
   ]
  },
  {
   "cell_type": "code",
   "execution_count": null,
   "id": "7a4756c1",
   "metadata": {},
   "outputs": [],
   "source": []
  }
 ],
 "metadata": {
  "kernelspec": {
   "display_name": "Python 3",
   "language": "python",
   "name": "python3"
  },
  "language_info": {
   "codemirror_mode": {
    "name": "ipython",
    "version": 3
   },
   "file_extension": ".py",
   "mimetype": "text/x-python",
   "name": "python",
   "nbconvert_exporter": "python",
   "pygments_lexer": "ipython3",
   "version": "3.8.10"
  }
 },
 "nbformat": 4,
 "nbformat_minor": 5
}
