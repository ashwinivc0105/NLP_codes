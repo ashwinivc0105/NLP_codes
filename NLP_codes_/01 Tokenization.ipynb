{
 "cells": [
  {
   "cell_type": "code",
   "execution_count": 1,
   "id": "3811cb0e",
   "metadata": {},
   "outputs": [],
   "source": [
    "import nltk"
   ]
  },
  {
   "cell_type": "code",
   "execution_count": 3,
   "id": "f01aa4d8",
   "metadata": {},
   "outputs": [
    {
     "name": "stdout",
     "output_type": "stream",
     "text": [
      "showing info https://raw.githubusercontent.com/nltk/nltk_data/gh-pages/index.xml\n"
     ]
    },
    {
     "data": {
      "text/plain": [
       "True"
      ]
     },
     "execution_count": 3,
     "metadata": {},
     "output_type": "execute_result"
    }
   ],
   "source": [
    "nltk.download()"
   ]
  },
  {
   "cell_type": "code",
   "execution_count": null,
   "id": "d098fcb6",
   "metadata": {},
   "outputs": [],
   "source": [
    "nltk.download('stopwords')\n",
    "nltk.download('averaged_perceptron_tagger')\n",
    "nltk.download('wordnet')\n",
    "nltk.download('omw-1.4')\n",
    "nltk.download('indian')\n",
    "nltk.download('maxent_ne_chunker')\n",
    "nltk.download('punkt')\n",
    "nltk.download('words')"
   ]
  },
  {
   "cell_type": "code",
   "execution_count": 12,
   "id": "4b448136",
   "metadata": {},
   "outputs": [],
   "source": [
    "sent = 'They told that their ages are 23, 25 and 29 respectively.'"
   ]
  },
  {
   "cell_type": "code",
   "execution_count": 13,
   "id": "874cac1d",
   "metadata": {},
   "outputs": [],
   "source": [
    "num = []\n",
    "words = sent.split()\n",
    "for word in words:\n",
    "    if word.isdigit():\n",
    "        num.append(int(word))"
   ]
  },
  {
   "cell_type": "code",
   "execution_count": 14,
   "id": "6b5e36c7",
   "metadata": {},
   "outputs": [
    {
     "data": {
      "text/plain": [
       "[25, 29]"
      ]
     },
     "execution_count": 14,
     "metadata": {},
     "output_type": "execute_result"
    }
   ],
   "source": [
    "num"
   ]
  },
  {
   "cell_type": "code",
   "execution_count": 15,
   "id": "22ce6c17",
   "metadata": {},
   "outputs": [
    {
     "data": {
      "text/plain": [
       "27.0"
      ]
     },
     "execution_count": 15,
     "metadata": {},
     "output_type": "execute_result"
    }
   ],
   "source": [
    "sum(num)/len(num)"
   ]
  },
  {
   "cell_type": "code",
   "execution_count": 16,
   "id": "adec7df7",
   "metadata": {},
   "outputs": [
    {
     "data": {
      "text/plain": [
       "27.0"
      ]
     },
     "execution_count": 16,
     "metadata": {},
     "output_type": "execute_result"
    }
   ],
   "source": [
    "num = [int(word) for word in words if word.isdigit()]\n",
    "sum(num)/len(num)"
   ]
  },
  {
   "cell_type": "code",
   "execution_count": 17,
   "id": "ca5aa7a4",
   "metadata": {},
   "outputs": [
    {
     "data": {
      "text/plain": [
       "'/home/mitu/pgdai'"
      ]
     },
     "execution_count": 17,
     "metadata": {},
     "output_type": "execute_result"
    }
   ],
   "source": [
    "import os\n",
    "os.getcwd()"
   ]
  },
  {
   "cell_type": "markdown",
   "id": "f04b08c1",
   "metadata": {},
   "source": [
    "#### Segmentation / Sentence Tokenization"
   ]
  },
  {
   "cell_type": "code",
   "execution_count": 19,
   "id": "f8b5c952",
   "metadata": {},
   "outputs": [],
   "source": [
    "sents = 'Hello friends! How are you? Welcome to Python Programming.'"
   ]
  },
  {
   "cell_type": "code",
   "execution_count": 20,
   "id": "e73ce8d1",
   "metadata": {},
   "outputs": [],
   "source": [
    "from nltk.tokenize import sent_tokenize"
   ]
  },
  {
   "cell_type": "code",
   "execution_count": 21,
   "id": "ea10b2b0",
   "metadata": {},
   "outputs": [
    {
     "data": {
      "text/plain": [
       "['Hello friends!', 'How are you?', 'Welcome to Python Programming.']"
      ]
     },
     "execution_count": 21,
     "metadata": {},
     "output_type": "execute_result"
    }
   ],
   "source": [
    "sent_tokenize(sents)"
   ]
  },
  {
   "cell_type": "code",
   "execution_count": 22,
   "id": "f0a0031e",
   "metadata": {},
   "outputs": [],
   "source": [
    "sents = 'Hello friends! How are you? Welcome to Mr. Raj.'"
   ]
  },
  {
   "cell_type": "code",
   "execution_count": 23,
   "id": "4113021a",
   "metadata": {},
   "outputs": [
    {
     "data": {
      "text/plain": [
       "['Hello friends!', 'How are you?', 'Welcome to Mr. Raj.']"
      ]
     },
     "execution_count": 23,
     "metadata": {},
     "output_type": "execute_result"
    }
   ],
   "source": [
    "sent_tokenize(sents)"
   ]
  },
  {
   "cell_type": "code",
   "execution_count": 24,
   "id": "be591e2d",
   "metadata": {},
   "outputs": [],
   "source": [
    "sents = 'एवढी सुरक्षितता होती,म्हणून आपले राजकीय केंद्र म्हणून शिवाजी महाराजांनी राजगडाची निवड केली. राजगडाला तीन माच्या व एक बालेकिल्ला आहे. राजगडचा बालेकिल्ला खूप उंच असून त्याची समुद्रसपाटीपासूनची उंची १३९४ मीटर आहे. दुर्गराज राजगड त्यांच्या महत्त्वाकांक्षेची उंची दाखवतो, तर किल्ले रायगड हा शिवाजी महाराजांच्या कर्तृत्वाचा विस्तार दाखवतो.'"
   ]
  },
  {
   "cell_type": "code",
   "execution_count": 25,
   "id": "077662ad",
   "metadata": {},
   "outputs": [
    {
     "data": {
      "text/plain": [
       "['एवढी सुरक्षितता होती,म्हणून आपले राजकीय केंद्र म्हणून शिवाजी महाराजांनी राजगडाची निवड केली.',\n",
       " 'राजगडाला तीन माच्या व एक बालेकिल्ला आहे.',\n",
       " 'राजगडचा बालेकिल्ला खूप उंच असून त्याची समुद्रसपाटीपासूनची उंची १३९४ मीटर आहे.',\n",
       " 'दुर्गराज राजगड त्यांच्या महत्त्वाकांक्षेची उंची दाखवतो, तर किल्ले रायगड हा शिवाजी महाराजांच्या कर्तृत्वाचा विस्तार दाखवतो.']"
      ]
     },
     "execution_count": 25,
     "metadata": {},
     "output_type": "execute_result"
    }
   ],
   "source": [
    "sent_tokenize(sents)"
   ]
  },
  {
   "cell_type": "code",
   "execution_count": 26,
   "id": "90ea1e62",
   "metadata": {},
   "outputs": [
    {
     "data": {
      "text/plain": [
       "97"
      ]
     },
     "execution_count": 26,
     "metadata": {},
     "output_type": "execute_result"
    }
   ],
   "source": [
    "ord('a')"
   ]
  },
  {
   "cell_type": "code",
   "execution_count": 27,
   "id": "2e0d0436",
   "metadata": {},
   "outputs": [
    {
     "data": {
      "text/plain": [
       "32"
      ]
     },
     "execution_count": 27,
     "metadata": {},
     "output_type": "execute_result"
    }
   ],
   "source": [
    "ord(' ')"
   ]
  },
  {
   "cell_type": "code",
   "execution_count": 28,
   "id": "6eff3435",
   "metadata": {},
   "outputs": [
    {
     "data": {
      "text/plain": [
       "'-'"
      ]
     },
     "execution_count": 28,
     "metadata": {},
     "output_type": "execute_result"
    }
   ],
   "source": [
    "chr(45)"
   ]
  },
  {
   "cell_type": "code",
   "execution_count": 29,
   "id": "fa2e797d",
   "metadata": {},
   "outputs": [
    {
     "data": {
      "text/plain": [
       "2327"
      ]
     },
     "execution_count": 29,
     "metadata": {},
     "output_type": "execute_result"
    }
   ],
   "source": [
    "ord('ग')"
   ]
  },
  {
   "cell_type": "code",
   "execution_count": 40,
   "id": "3f3fff77",
   "metadata": {},
   "outputs": [],
   "source": [
    "s = 'Hello friends! 👋 How are you? 👤 Welcome to Mr. Raj.😇'"
   ]
  },
  {
   "cell_type": "code",
   "execution_count": 41,
   "id": "5f79a6c7",
   "metadata": {},
   "outputs": [
    {
     "data": {
      "text/plain": [
       "'Hello friends! 👋 How are you? 👤 Welcome to Mr. Raj.😇'"
      ]
     },
     "execution_count": 41,
     "metadata": {},
     "output_type": "execute_result"
    }
   ],
   "source": [
    "s"
   ]
  },
  {
   "cell_type": "code",
   "execution_count": 38,
   "id": "68c04da3",
   "metadata": {},
   "outputs": [
    {
     "data": {
      "text/plain": [
       "48"
      ]
     },
     "execution_count": 38,
     "metadata": {},
     "output_type": "execute_result"
    }
   ],
   "source": [
    "len(s)"
   ]
  },
  {
   "cell_type": "code",
   "execution_count": 42,
   "id": "0a52bf30",
   "metadata": {},
   "outputs": [
    {
     "data": {
      "text/plain": [
       "128100"
      ]
     },
     "execution_count": 42,
     "metadata": {},
     "output_type": "execute_result"
    }
   ],
   "source": [
    "ord('👤')"
   ]
  },
  {
   "cell_type": "markdown",
   "id": "4468a7b0",
   "metadata": {},
   "source": [
    "#### Word Tokenization"
   ]
  },
  {
   "cell_type": "code",
   "execution_count": 44,
   "id": "cc32b53e",
   "metadata": {},
   "outputs": [],
   "source": [
    "sents = 'Hello friends! How are you? Welcome to Python Programming.'"
   ]
  },
  {
   "cell_type": "code",
   "execution_count": 45,
   "id": "a4b730cb",
   "metadata": {},
   "outputs": [],
   "source": [
    "from nltk.tokenize import word_tokenize"
   ]
  },
  {
   "cell_type": "code",
   "execution_count": 46,
   "id": "d89eeca6",
   "metadata": {},
   "outputs": [
    {
     "data": {
      "text/plain": [
       "['Hello',\n",
       " 'friends',\n",
       " '!',\n",
       " 'How',\n",
       " 'are',\n",
       " 'you',\n",
       " '?',\n",
       " 'Welcome',\n",
       " 'to',\n",
       " 'Python',\n",
       " 'Programming',\n",
       " '.']"
      ]
     },
     "execution_count": 46,
     "metadata": {},
     "output_type": "execute_result"
    }
   ],
   "source": [
    "word_tokenize(sents)"
   ]
  },
  {
   "cell_type": "code",
   "execution_count": 47,
   "id": "16f54a05",
   "metadata": {},
   "outputs": [],
   "source": [
    "sent = 'They told that their ages are 23, 25 and 29 respectively.'"
   ]
  },
  {
   "cell_type": "code",
   "execution_count": 48,
   "id": "74357e89",
   "metadata": {},
   "outputs": [],
   "source": [
    "# 1. Find the average of ages.\n",
    "# 2. Count total number of words starts with 't' / 'T'\n",
    "# 3. Count total punctuation symbols.\n",
    "# 4. Print the words in capital letter which ends with 'd'\n",
    "# 5. Merge all the words and print (no punctuations)"
   ]
  },
  {
   "cell_type": "code",
   "execution_count": 50,
   "id": "32000edf",
   "metadata": {},
   "outputs": [
    {
     "data": {
      "text/plain": [
       "25.666666666666668"
      ]
     },
     "execution_count": 50,
     "metadata": {},
     "output_type": "execute_result"
    }
   ],
   "source": [
    "num = [int(word) for word in word_tokenize(sent) if word.isdigit()]\n",
    "sum(num)/len(num)"
   ]
  },
  {
   "cell_type": "code",
   "execution_count": 53,
   "id": "c17625a3",
   "metadata": {},
   "outputs": [
    {
     "data": {
      "text/plain": [
       "4"
      ]
     },
     "execution_count": 53,
     "metadata": {},
     "output_type": "execute_result"
    }
   ],
   "source": [
    "sum([1 for word in word_tokenize(sent) \n",
    "     if word.startswith('t') or word.startswith('T')])"
   ]
  },
  {
   "cell_type": "code",
   "execution_count": 55,
   "id": "c71e572b",
   "metadata": {},
   "outputs": [
    {
     "data": {
      "text/plain": [
       "2"
      ]
     },
     "execution_count": 55,
     "metadata": {},
     "output_type": "execute_result"
    }
   ],
   "source": [
    "sum([1 for word in word_tokenize(sent) \n",
    "       if not word.isdigit() and not word.isalpha()])"
   ]
  },
  {
   "cell_type": "code",
   "execution_count": 57,
   "id": "a2cee4b8",
   "metadata": {},
   "outputs": [
    {
     "data": {
      "text/plain": [
       "['told', 'and']"
      ]
     },
     "execution_count": 57,
     "metadata": {},
     "output_type": "execute_result"
    }
   ],
   "source": [
    "x = [word for word in word_tokenize(sent) if word.endswith('d')]\n",
    "x"
   ]
  },
  {
   "cell_type": "code",
   "execution_count": 62,
   "id": "d8b80140",
   "metadata": {},
   "outputs": [
    {
     "data": {
      "text/plain": [
       "'Theytoldthattheiragesare2325and29respectively'"
      ]
     },
     "execution_count": 62,
     "metadata": {},
     "output_type": "execute_result"
    }
   ],
   "source": [
    "x = [word for word in word_tokenize(sent) \n",
    "       if word.isdigit() or word.isalpha()]\n",
    "''.join(x)"
   ]
  },
  {
   "cell_type": "code",
   "execution_count": 61,
   "id": "6338df7b",
   "metadata": {},
   "outputs": [
    {
     "data": {
      "text/plain": [
       "['They',\n",
       " 'told',\n",
       " 'that',\n",
       " 'their',\n",
       " 'ages',\n",
       " 'are',\n",
       " '23',\n",
       " '25',\n",
       " 'and',\n",
       " '29',\n",
       " 'respectively']"
      ]
     },
     "execution_count": 61,
     "metadata": {},
     "output_type": "execute_result"
    }
   ],
   "source": [
    "x"
   ]
  },
  {
   "cell_type": "markdown",
   "id": "c968908d",
   "metadata": {},
   "source": [
    "#### Tab tokenizer"
   ]
  },
  {
   "cell_type": "code",
   "execution_count": 64,
   "id": "c7c048f3",
   "metadata": {},
   "outputs": [],
   "source": [
    "sents = 'Hello friends!\\tHow are you? Welcome to\\tPython Programming.'"
   ]
  },
  {
   "cell_type": "code",
   "execution_count": 65,
   "id": "7e4c86b6",
   "metadata": {},
   "outputs": [
    {
     "name": "stdout",
     "output_type": "stream",
     "text": [
      "Hello friends!\tHow are you? Welcome to\tPython Programming.\n"
     ]
    }
   ],
   "source": [
    "print(sents)"
   ]
  },
  {
   "cell_type": "code",
   "execution_count": 66,
   "id": "51430e49",
   "metadata": {},
   "outputs": [],
   "source": [
    "from nltk.tokenize import TabTokenizer"
   ]
  },
  {
   "cell_type": "code",
   "execution_count": 67,
   "id": "a9dd2249",
   "metadata": {},
   "outputs": [],
   "source": [
    "tk = TabTokenizer()"
   ]
  },
  {
   "cell_type": "code",
   "execution_count": 68,
   "id": "f35a9547",
   "metadata": {},
   "outputs": [
    {
     "data": {
      "text/plain": [
       "['Hello friends!', 'How are you? Welcome to', 'Python Programming.']"
      ]
     },
     "execution_count": 68,
     "metadata": {},
     "output_type": "execute_result"
    }
   ],
   "source": [
    "tk.tokenize(sents)"
   ]
  },
  {
   "cell_type": "code",
   "execution_count": 69,
   "id": "0bfdfcce",
   "metadata": {},
   "outputs": [],
   "source": [
    "# Location: https://mitu.co.in/dataset\n",
    "# File: students3.tsv"
   ]
  },
  {
   "cell_type": "code",
   "execution_count": 73,
   "id": "e3b280fe",
   "metadata": {},
   "outputs": [
    {
     "data": {
      "text/plain": [
       "['roll',\n",
       " 'name',\n",
       " 'class',\n",
       " 'marks',\n",
       " 'age\\n1',\n",
       " 'anil',\n",
       " 'TE',\n",
       " '56.77',\n",
       " '22\\n2',\n",
       " 'amit',\n",
       " 'TE',\n",
       " '59.77',\n",
       " '21\\n3',\n",
       " 'aniket',\n",
       " 'BE',\n",
       " '76.88',\n",
       " '19\\n4',\n",
       " 'ajinkya',\n",
       " 'TE',\n",
       " '69.66',\n",
       " '20\\n5',\n",
       " 'asha',\n",
       " 'TE',\n",
       " '63.28',\n",
       " '20\\n6',\n",
       " 'ayesha',\n",
       " 'BE',\n",
       " '49.55',\n",
       " '20\\n7',\n",
       " 'amar',\n",
       " 'BE',\n",
       " '65.34',\n",
       " '19\\n8',\n",
       " 'amita',\n",
       " 'BE',\n",
       " '68.33',\n",
       " '23\\n9',\n",
       " 'amol',\n",
       " 'TE',\n",
       " '56.75',\n",
       " '20\\n10',\n",
       " 'anmol',\n",
       " 'BE',\n",
       " '78.66',\n",
       " '21\\n']"
      ]
     },
     "execution_count": 73,
     "metadata": {},
     "output_type": "execute_result"
    }
   ],
   "source": [
    "f = open('student3.tsv')\n",
    "data = f.read()\n",
    "tk.tokenize(data)"
   ]
  },
  {
   "cell_type": "code",
   "execution_count": 72,
   "id": "8900699f",
   "metadata": {},
   "outputs": [
    {
     "name": "stdout",
     "output_type": "stream",
     "text": [
      "roll\tname\tclass\tmarks\tage\n",
      "1\tanil\tTE\t56.77\t22\n",
      "2\tamit\tTE\t59.77\t21\n",
      "3\taniket\tBE\t76.88\t19\n",
      "4\tajinkya\tTE\t69.66\t20\n",
      "5\tasha\tTE\t63.28\t20\n",
      "6\tayesha\tBE\t49.55\t20\n",
      "7\tamar\tBE\t65.34\t19\n",
      "8\tamita\tBE\t68.33\t23\n",
      "9\tamol\tTE\t56.75\t20\n",
      "10\tanmol\tBE\t78.66\t21\n",
      "\n"
     ]
    }
   ],
   "source": [
    "with open('student3.tsv') as f:\n",
    "    data = f.read()\n",
    "    print(data)"
   ]
  },
  {
   "cell_type": "markdown",
   "id": "062d63a7",
   "metadata": {},
   "source": [
    "#### Line Tokenizer"
   ]
  },
  {
   "cell_type": "code",
   "execution_count": 77,
   "id": "5bf831be",
   "metadata": {},
   "outputs": [],
   "source": [
    "sents = 'Hello friends!\\nHow are you? Welcome to Python Programming.'"
   ]
  },
  {
   "cell_type": "code",
   "execution_count": 80,
   "id": "a3a53177",
   "metadata": {},
   "outputs": [
    {
     "name": "stdout",
     "output_type": "stream",
     "text": [
      "Hello friends!\n",
      "How are you? Welcome to Python Programming.\n"
     ]
    }
   ],
   "source": [
    "print(sents)"
   ]
  },
  {
   "cell_type": "code",
   "execution_count": 78,
   "id": "4abc092f",
   "metadata": {},
   "outputs": [],
   "source": [
    "from nltk.tokenize import LineTokenizer"
   ]
  },
  {
   "cell_type": "code",
   "execution_count": 79,
   "id": "4003e6ce",
   "metadata": {},
   "outputs": [],
   "source": [
    "lt = LineTokenizer()"
   ]
  },
  {
   "cell_type": "code",
   "execution_count": 81,
   "id": "9933f30a",
   "metadata": {},
   "outputs": [
    {
     "data": {
      "text/plain": [
       "['Hello friends!', 'How are you? Welcome to Python Programming.']"
      ]
     },
     "execution_count": 81,
     "metadata": {},
     "output_type": "execute_result"
    }
   ],
   "source": [
    "lt.tokenize(sents)"
   ]
  },
  {
   "cell_type": "markdown",
   "id": "ac62df28",
   "metadata": {},
   "source": [
    "#### Space Tokenizer"
   ]
  },
  {
   "cell_type": "code",
   "execution_count": 83,
   "id": "b59ea167",
   "metadata": {},
   "outputs": [
    {
     "data": {
      "text/plain": [
       "['Hello',\n",
       " 'friends!\\nHow',\n",
       " 'are',\n",
       " 'you?',\n",
       " 'Welcome',\n",
       " 'to',\n",
       " 'Python',\n",
       " 'Programming.']"
      ]
     },
     "execution_count": 83,
     "metadata": {},
     "output_type": "execute_result"
    }
   ],
   "source": [
    "from nltk.tokenize import SpaceTokenizer\n",
    "st = SpaceTokenizer()\n",
    "st.tokenize(sents)"
   ]
  },
  {
   "cell_type": "markdown",
   "id": "eefcd558",
   "metadata": {},
   "source": [
    "#### White Space Tokenizer"
   ]
  },
  {
   "cell_type": "code",
   "execution_count": 85,
   "id": "de7782c5",
   "metadata": {},
   "outputs": [
    {
     "data": {
      "text/plain": [
       "['Hello',\n",
       " 'friends!',\n",
       " 'How',\n",
       " 'are',\n",
       " 'you?',\n",
       " 'Welcome',\n",
       " 'to',\n",
       " 'Python',\n",
       " 'Programming.']"
      ]
     },
     "execution_count": 85,
     "metadata": {},
     "output_type": "execute_result"
    }
   ],
   "source": [
    "from nltk.tokenize import WhitespaceTokenizer\n",
    "wst = WhitespaceTokenizer()\n",
    "wst.tokenize(sents)"
   ]
  },
  {
   "cell_type": "markdown",
   "id": "02b79122",
   "metadata": {},
   "source": [
    "#### Multi-word Expression Tokenizer"
   ]
  },
  {
   "cell_type": "code",
   "execution_count": 91,
   "id": "2264db26",
   "metadata": {},
   "outputs": [],
   "source": [
    "sent = 'Van Rossom is in Pune today. We welcomed Van Rossom here.'"
   ]
  },
  {
   "cell_type": "code",
   "execution_count": 115,
   "id": "b633ae82",
   "metadata": {},
   "outputs": [
    {
     "data": {
      "text/plain": [
       "['Van_Rossom',\n",
       " 'is',\n",
       " 'in',\n",
       " 'Pune',\n",
       " 'today',\n",
       " '.',\n",
       " 'We',\n",
       " 'welcomed',\n",
       " 'Van_Rossom',\n",
       " 'here',\n",
       " '.']"
      ]
     },
     "execution_count": 115,
     "metadata": {},
     "output_type": "execute_result"
    }
   ],
   "source": [
    "from nltk.tokenize import MWETokenizer\n",
    "mwet = MWETokenizer()\n",
    "mwet.add_mwe(('Van','Rossom'))\n",
    "mwet.tokenize(word_tokenize(sent))"
   ]
  },
  {
   "cell_type": "markdown",
   "id": "2e7b01c7",
   "metadata": {},
   "source": [
    "#### Tweet Tokenizer"
   ]
  },
  {
   "cell_type": "code",
   "execution_count": 116,
   "id": "3cef88dd",
   "metadata": {},
   "outputs": [],
   "source": [
    "sent1 = 'Van Rossom is in Pune today. 😮We welcomed Van Rossom here.'"
   ]
  },
  {
   "cell_type": "code",
   "execution_count": 117,
   "id": "a26aeb14",
   "metadata": {},
   "outputs": [],
   "source": [
    "sents = 'Hello friends!:) How are you?😮 :DyDWelcome to Python Programming.'"
   ]
  },
  {
   "cell_type": "code",
   "execution_count": 118,
   "id": "ab10ad8e",
   "metadata": {},
   "outputs": [
    {
     "data": {
      "text/plain": [
       "['Van_Rossom',\n",
       " 'is',\n",
       " 'in',\n",
       " 'Pune',\n",
       " 'today',\n",
       " '.',\n",
       " '😮',\n",
       " 'We',\n",
       " 'welcomed',\n",
       " 'Van_Rossom',\n",
       " 'here',\n",
       " '.']"
      ]
     },
     "execution_count": 118,
     "metadata": {},
     "output_type": "execute_result"
    }
   ],
   "source": [
    "data = mwet.tokenize(word_tokenize(sent1))\n",
    "tt.tokenize(\" \".join(data))"
   ]
  },
  {
   "cell_type": "code",
   "execution_count": 105,
   "id": "c37d86ee",
   "metadata": {},
   "outputs": [
    {
     "data": {
      "text/plain": [
       "['Hello',\n",
       " 'friends',\n",
       " '!',\n",
       " ':)',\n",
       " 'How',\n",
       " 'are',\n",
       " 'you',\n",
       " '?',\n",
       " '😮',\n",
       " ':D',\n",
       " 'yDWelcome',\n",
       " 'to',\n",
       " 'Python',\n",
       " 'Programming',\n",
       " '.']"
      ]
     },
     "execution_count": 105,
     "metadata": {},
     "output_type": "execute_result"
    }
   ],
   "source": [
    "from nltk.tokenize import TweetTokenizer\n",
    "tt = TweetTokenizer()\n",
    "tt.tokenize(sents)"
   ]
  },
  {
   "cell_type": "code",
   "execution_count": null,
   "id": "9b1d459b",
   "metadata": {},
   "outputs": [],
   "source": []
  }
 ],
 "metadata": {
  "kernelspec": {
   "display_name": "Python 3 (ipykernel)",
   "language": "python",
   "name": "python3"
  },
  "language_info": {
   "codemirror_mode": {
    "name": "ipython",
    "version": 3
   },
   "file_extension": ".py",
   "mimetype": "text/x-python",
   "name": "python",
   "nbconvert_exporter": "python",
   "pygments_lexer": "ipython3",
   "version": "3.9.12"
  }
 },
 "nbformat": 4,
 "nbformat_minor": 5
}
