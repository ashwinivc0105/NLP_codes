{
 "cells": [
  {
   "cell_type": "code",
   "execution_count": 5,
   "id": "073292f4",
   "metadata": {},
   "outputs": [
    {
     "name": "stdout",
     "output_type": "stream",
     "text": [
      "/usr/bin/python: No module named SimpleHMM\r\n"
     ]
    }
   ],
   "source": [
    "!python -m  SimpleHMM install"
   ]
  },
  {
   "cell_type": "code",
   "execution_count": 6,
   "id": "098cb52f",
   "metadata": {},
   "outputs": [],
   "source": [
    "from nltk.corpus import treebank"
   ]
  },
  {
   "cell_type": "code",
   "execution_count": 7,
   "id": "eee9e9ea",
   "metadata": {},
   "outputs": [],
   "source": [
    "from nltk.tag import hmm"
   ]
  },
  {
   "cell_type": "code",
   "execution_count": 10,
   "id": "61fbdfd8",
   "metadata": {},
   "outputs": [
    {
     "name": "stderr",
     "output_type": "stream",
     "text": [
      "[nltk_data] Downloading package treebank to /home/mitu/nltk_data...\n",
      "[nltk_data]   Unzipping corpora/treebank.zip.\n"
     ]
    },
    {
     "data": {
      "text/plain": [
       "True"
      ]
     },
     "execution_count": 10,
     "metadata": {},
     "output_type": "execute_result"
    }
   ],
   "source": [
    "import nltk\n",
    "nltk.download('treebank')"
   ]
  },
  {
   "cell_type": "code",
   "execution_count": 8,
   "id": "8f65d18b",
   "metadata": {},
   "outputs": [],
   "source": [
    "trainer = hmm.HiddenMarkovModelTrainer()"
   ]
  },
  {
   "cell_type": "code",
   "execution_count": 11,
   "id": "1305bc9d",
   "metadata": {},
   "outputs": [
    {
     "data": {
      "text/plain": [
       "[[('Pierre', 'NNP'),\n",
       "  ('Vinken', 'NNP'),\n",
       "  (',', ','),\n",
       "  ('61', 'CD'),\n",
       "  ('years', 'NNS'),\n",
       "  ('old', 'JJ'),\n",
       "  (',', ','),\n",
       "  ('will', 'MD'),\n",
       "  ('join', 'VB'),\n",
       "  ('the', 'DT'),\n",
       "  ('board', 'NN'),\n",
       "  ('as', 'IN'),\n",
       "  ('a', 'DT'),\n",
       "  ('nonexecutive', 'JJ'),\n",
       "  ('director', 'NN'),\n",
       "  ('Nov.', 'NNP'),\n",
       "  ('29', 'CD'),\n",
       "  ('.', '.')],\n",
       " [('Mr.', 'NNP'),\n",
       "  ('Vinken', 'NNP'),\n",
       "  ('is', 'VBZ'),\n",
       "  ('chairman', 'NN'),\n",
       "  ('of', 'IN'),\n",
       "  ('Elsevier', 'NNP'),\n",
       "  ('N.V.', 'NNP'),\n",
       "  (',', ','),\n",
       "  ('the', 'DT'),\n",
       "  ('Dutch', 'NNP'),\n",
       "  ('publishing', 'VBG'),\n",
       "  ('group', 'NN'),\n",
       "  ('.', '.')]]"
      ]
     },
     "execution_count": 11,
     "metadata": {},
     "output_type": "execute_result"
    }
   ],
   "source": [
    "treebank.tagged_sents()[:2]"
   ]
  },
  {
   "cell_type": "code",
   "execution_count": 12,
   "id": "2582c898",
   "metadata": {},
   "outputs": [],
   "source": [
    "tagger = trainer.train_supervised(treebank.tagged_sents())"
   ]
  },
  {
   "cell_type": "code",
   "execution_count": 13,
   "id": "62a03279",
   "metadata": {},
   "outputs": [
    {
     "data": {
      "text/plain": [
       "<HiddenMarkovModelTagger 46 states and 12408 output symbols>"
      ]
     },
     "execution_count": 13,
     "metadata": {},
     "output_type": "execute_result"
    }
   ],
   "source": [
    "tagger"
   ]
  },
  {
   "cell_type": "code",
   "execution_count": null,
   "id": "4a92b15e",
   "metadata": {},
   "outputs": [],
   "source": []
  },
  {
   "cell_type": "code",
   "execution_count": null,
   "id": "a0269ff7",
   "metadata": {},
   "outputs": [],
   "source": []
  },
  {
   "cell_type": "code",
   "execution_count": null,
   "id": "817b8043",
   "metadata": {},
   "outputs": [],
   "source": []
  },
  {
   "cell_type": "code",
   "execution_count": null,
   "id": "4084120a",
   "metadata": {},
   "outputs": [],
   "source": [
    "# Define HMM state list and observation list\n",
    "\n",
    "test_hmm_states = ['title', 'givenname', 'surname']\n",
    "test_hmm_observ = ['TI', 'GM', 'GF', 'SN', 'UN']"
   ]
  },
  {
   "cell_type": "code",
   "execution_count": null,
   "id": "6d6a77a5",
   "metadata": {},
   "outputs": [],
   "source": [
    "# Some example training records (one per line) with state/tag pairs\n",
    "\n",
    "train_data = [[('title','TI'),('givenname','GF'),('surname','SN')],\n",
    "              [('givenname','GM'),('surname','UN')],\n",
    "              [('title','UN'),('givenname','GM'),('surname','UN')],\n",
    "              [('title','TI'),('givenname','SN'),('surname','SN')],\n",
    "              [('givenname','GM'),('surname','SN')],\n",
    "              [('title','TI'),('givenname','GF'),('surname','SN')],\n",
    "              [('title','TI'),('surname','SN'),('givenname','GM')],\n",
    "              [('surname','UN'),('givenname','UN')],\n",
    "              [('givenname','GF'),('surname','GF'),('surname','SN')]]"
   ]
  },
  {
   "cell_type": "code",
   "execution_count": null,
   "id": "71e76200",
   "metadata": {},
   "outputs": [],
   "source": [
    "# Some test examples (observation (tag) sequences), one per line\n",
    "\n",
    "test_data = [['TI','GM','SN'],\n",
    "             ['UN','SN'],\n",
    "             ['TI','UN','UN'],\n",
    "             ['TI','GF','UN'],\n",
    "             ['UN','UN','UN','UN'],\n",
    "             ['TI','GM','UN','SN'],\n",
    "             ['GF','UN']]\n"
   ]
  },
  {
   "cell_type": "code",
   "execution_count": null,
   "id": "9dd8cb9d",
   "metadata": {},
   "outputs": [],
   "source": [
    "# Initialise a new HMM and train it\n",
    "\n",
    "test_hmm = simplehmm.hmm('Test HMM', test_hmm_states, test_hmm_observ)\n",
    "test_hmm.train(train_data)  # Train the HMM\n",
    "\n",
    "test_hmm.check_prob()  # Check its probabilities\n",
    "test_hmm.print_hmm()   # Print it out"
   ]
  },
  {
   "cell_type": "code",
   "execution_count": null,
   "id": "f6a444c3",
   "metadata": {},
   "outputs": [],
   "source": []
  }
 ],
 "metadata": {
  "kernelspec": {
   "display_name": "Python 3 (ipykernel)",
   "language": "python",
   "name": "python3"
  },
  "language_info": {
   "codemirror_mode": {
    "name": "ipython",
    "version": 3
   },
   "file_extension": ".py",
   "mimetype": "text/x-python",
   "name": "python",
   "nbconvert_exporter": "python",
   "pygments_lexer": "ipython3",
   "version": "3.9.12"
  }
 },
 "nbformat": 4,
 "nbformat_minor": 5
}
