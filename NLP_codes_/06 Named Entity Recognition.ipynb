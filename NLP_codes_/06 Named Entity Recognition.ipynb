{
 "cells": [
  {
   "cell_type": "code",
   "execution_count": 1,
   "id": "24323df7",
   "metadata": {},
   "outputs": [],
   "source": [
    "import spacy"
   ]
  },
  {
   "cell_type": "code",
   "execution_count": null,
   "id": "21e50e83",
   "metadata": {},
   "outputs": [],
   "source": [
    "!python -m spacy download en_core_web_sm"
   ]
  },
  {
   "cell_type": "code",
   "execution_count": 2,
   "id": "d06d041e",
   "metadata": {},
   "outputs": [],
   "source": [
    "nlp = spacy.load('en_core_web_sm')"
   ]
  },
  {
   "cell_type": "code",
   "execution_count": 16,
   "id": "c66c9da7",
   "metadata": {},
   "outputs": [],
   "source": [
    "sent = nlp('''Mark Zukerberg will meet Indian Prime Minister\n",
    "Narendra Modi in New York, USA on Monday 4th June 2023 at 3pm \n",
    "for $3 Trillion deal.''')"
   ]
  },
  {
   "cell_type": "code",
   "execution_count": 17,
   "id": "06ab1fbd",
   "metadata": {},
   "outputs": [
    {
     "name": "stdout",
     "output_type": "stream",
     "text": [
      "Mark Zukerberg \t\t PERSON\n",
      "Indian \t\t NORP\n",
      "New York \t\t GPE\n",
      "USA \t\t GPE\n",
      "Monday 4th June 2023 \t\t DATE\n",
      "3pm \t\t TIME\n",
      "$3 Trillion \t\t MONEY\n"
     ]
    }
   ],
   "source": [
    "for ent in sent.ents:\n",
    "    print(ent.text,'\\t\\t',ent.label_)"
   ]
  },
  {
   "cell_type": "code",
   "execution_count": null,
   "id": "1d58f8fe",
   "metadata": {},
   "outputs": [],
   "source": []
  }
 ],
 "metadata": {
  "kernelspec": {
   "display_name": "Python 3",
   "language": "python",
   "name": "python3"
  },
  "language_info": {
   "codemirror_mode": {
    "name": "ipython",
    "version": 3
   },
   "file_extension": ".py",
   "mimetype": "text/x-python",
   "name": "python",
   "nbconvert_exporter": "python",
   "pygments_lexer": "ipython3",
   "version": "3.8.10"
  }
 },
 "nbformat": 4,
 "nbformat_minor": 5
}
