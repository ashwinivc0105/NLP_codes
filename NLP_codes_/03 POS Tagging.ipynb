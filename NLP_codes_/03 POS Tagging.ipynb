{
 "cells": [
  {
   "cell_type": "code",
   "execution_count": 3,
   "id": "c68d0644",
   "metadata": {},
   "outputs": [],
   "source": [
    "from nltk import pos_tag\n",
    "from nltk.tokenize import word_tokenize"
   ]
  },
  {
   "cell_type": "code",
   "execution_count": 2,
   "id": "6f354117",
   "metadata": {},
   "outputs": [],
   "source": [
    "text = \"The headwaters of the Apurímac River on Nevado Mismi had been considered for nearly a century the Amazon basin's most distant source until a 2014 study found it to be the headwaters of the Mantaro River on the Cordillera Rumi Cruz in Peru.[21] The Mantaro and Apurímac rivers join, and with other tributaries form the Ucayali River, which in turn meets the Marañón River upstream of Iquitos, Peru, forming what countries other than Brazil consider to be the main stem of the Amazon. Brazilians call this section the Solimões River above its confluence with the Rio Negro[22] forming what Brazilians call the Amazon at the Meeting of Waters (Portuguese: Encontro das Águas) at Manaus, the largest city on the river.\""
   ]
  },
  {
   "cell_type": "code",
   "execution_count": 4,
   "id": "714092cd",
   "metadata": {},
   "outputs": [],
   "source": [
    "tags = pos_tag(word_tokenize(text))"
   ]
  },
  {
   "cell_type": "code",
   "execution_count": 5,
   "id": "0b0aef7c",
   "metadata": {},
   "outputs": [
    {
     "data": {
      "text/plain": [
       "[('The', 'DT'),\n",
       " ('headwaters', 'NNS'),\n",
       " ('of', 'IN'),\n",
       " ('the', 'DT'),\n",
       " ('Apurímac', 'NNP'),\n",
       " ('River', 'NNP'),\n",
       " ('on', 'IN'),\n",
       " ('Nevado', 'NNP'),\n",
       " ('Mismi', 'NNP'),\n",
       " ('had', 'VBD'),\n",
       " ('been', 'VBN'),\n",
       " ('considered', 'VBN'),\n",
       " ('for', 'IN'),\n",
       " ('nearly', 'RB'),\n",
       " ('a', 'DT'),\n",
       " ('century', 'NN'),\n",
       " ('the', 'DT'),\n",
       " ('Amazon', 'NNP'),\n",
       " ('basin', 'NN'),\n",
       " (\"'s\", 'POS'),\n",
       " ('most', 'RBS'),\n",
       " ('distant', 'JJ'),\n",
       " ('source', 'NN'),\n",
       " ('until', 'IN'),\n",
       " ('a', 'DT'),\n",
       " ('2014', 'CD'),\n",
       " ('study', 'NN'),\n",
       " ('found', 'VBD'),\n",
       " ('it', 'PRP'),\n",
       " ('to', 'TO'),\n",
       " ('be', 'VB'),\n",
       " ('the', 'DT'),\n",
       " ('headwaters', 'NNS'),\n",
       " ('of', 'IN'),\n",
       " ('the', 'DT'),\n",
       " ('Mantaro', 'NNP'),\n",
       " ('River', 'NNP'),\n",
       " ('on', 'IN'),\n",
       " ('the', 'DT'),\n",
       " ('Cordillera', 'NNP'),\n",
       " ('Rumi', 'NNP'),\n",
       " ('Cruz', 'NNP'),\n",
       " ('in', 'IN'),\n",
       " ('Peru', 'NNP'),\n",
       " ('.', '.'),\n",
       " ('[', 'CC'),\n",
       " ('21', 'CD'),\n",
       " (']', 'IN'),\n",
       " ('The', 'DT'),\n",
       " ('Mantaro', 'NNP'),\n",
       " ('and', 'CC'),\n",
       " ('Apurímac', 'NNP'),\n",
       " ('rivers', 'NNS'),\n",
       " ('join', 'VBP'),\n",
       " (',', ','),\n",
       " ('and', 'CC'),\n",
       " ('with', 'IN'),\n",
       " ('other', 'JJ'),\n",
       " ('tributaries', 'NNS'),\n",
       " ('form', 'VBP'),\n",
       " ('the', 'DT'),\n",
       " ('Ucayali', 'NNP'),\n",
       " ('River', 'NNP'),\n",
       " (',', ','),\n",
       " ('which', 'WDT'),\n",
       " ('in', 'IN'),\n",
       " ('turn', 'NN'),\n",
       " ('meets', 'NNS'),\n",
       " ('the', 'DT'),\n",
       " ('Marañón', 'NNP'),\n",
       " ('River', 'NNP'),\n",
       " ('upstream', 'NN'),\n",
       " ('of', 'IN'),\n",
       " ('Iquitos', 'NNP'),\n",
       " (',', ','),\n",
       " ('Peru', 'NNP'),\n",
       " (',', ','),\n",
       " ('forming', 'VBG'),\n",
       " ('what', 'WP'),\n",
       " ('countries', 'NNS'),\n",
       " ('other', 'JJ'),\n",
       " ('than', 'IN'),\n",
       " ('Brazil', 'NNP'),\n",
       " ('consider', 'VB'),\n",
       " ('to', 'TO'),\n",
       " ('be', 'VB'),\n",
       " ('the', 'DT'),\n",
       " ('main', 'JJ'),\n",
       " ('stem', 'NN'),\n",
       " ('of', 'IN'),\n",
       " ('the', 'DT'),\n",
       " ('Amazon', 'NNP'),\n",
       " ('.', '.'),\n",
       " ('Brazilians', 'NNPS'),\n",
       " ('call', 'VBP'),\n",
       " ('this', 'DT'),\n",
       " ('section', 'NN'),\n",
       " ('the', 'DT'),\n",
       " ('Solimões', 'NNP'),\n",
       " ('River', 'NNP'),\n",
       " ('above', 'IN'),\n",
       " ('its', 'PRP$'),\n",
       " ('confluence', 'NN'),\n",
       " ('with', 'IN'),\n",
       " ('the', 'DT'),\n",
       " ('Rio', 'NNP'),\n",
       " ('Negro', 'NNP'),\n",
       " ('[', 'VBD'),\n",
       " ('22', 'CD'),\n",
       " (']', 'NN'),\n",
       " ('forming', 'VBG'),\n",
       " ('what', 'WP'),\n",
       " ('Brazilians', 'NNPS'),\n",
       " ('call', 'VBP'),\n",
       " ('the', 'DT'),\n",
       " ('Amazon', 'NNP'),\n",
       " ('at', 'IN'),\n",
       " ('the', 'DT'),\n",
       " ('Meeting', 'NN'),\n",
       " ('of', 'IN'),\n",
       " ('Waters', 'NNP'),\n",
       " ('(', '('),\n",
       " ('Portuguese', 'JJ'),\n",
       " (':', ':'),\n",
       " ('Encontro', 'NNP'),\n",
       " ('das', 'VB'),\n",
       " ('Águas', 'NNP'),\n",
       " (')', ')'),\n",
       " ('at', 'IN'),\n",
       " ('Manaus', 'NNP'),\n",
       " (',', ','),\n",
       " ('the', 'DT'),\n",
       " ('largest', 'JJS'),\n",
       " ('city', 'NN'),\n",
       " ('on', 'IN'),\n",
       " ('the', 'DT'),\n",
       " ('river', 'NN'),\n",
       " ('.', '.')]"
      ]
     },
     "execution_count": 5,
     "metadata": {},
     "output_type": "execute_result"
    }
   ],
   "source": [
    "tags"
   ]
  },
  {
   "cell_type": "code",
   "execution_count": 9,
   "id": "ed88424f",
   "metadata": {},
   "outputs": [
    {
     "data": {
      "text/plain": [
       "['Headwaters',\n",
       " 'Apurímac',\n",
       " 'River',\n",
       " 'Nevado',\n",
       " 'Mismi',\n",
       " 'Century',\n",
       " 'Amazon',\n",
       " 'Basin',\n",
       " 'Source',\n",
       " 'Study',\n",
       " 'Headwaters',\n",
       " 'Mantaro',\n",
       " 'River',\n",
       " 'Cordillera',\n",
       " 'Rumi',\n",
       " 'Cruz',\n",
       " 'Peru',\n",
       " 'Mantaro',\n",
       " 'Apurímac',\n",
       " 'Rivers',\n",
       " 'Tributaries',\n",
       " 'Ucayali',\n",
       " 'River',\n",
       " 'Turn',\n",
       " 'Meets',\n",
       " 'Marañón',\n",
       " 'River',\n",
       " 'Upstream',\n",
       " 'Iquitos',\n",
       " 'Peru',\n",
       " 'Countries',\n",
       " 'Brazil',\n",
       " 'Stem',\n",
       " 'Amazon',\n",
       " 'Brazilians',\n",
       " 'Section',\n",
       " 'Solimões',\n",
       " 'River',\n",
       " 'Confluence',\n",
       " 'Rio',\n",
       " 'Negro',\n",
       " 'Brazilians',\n",
       " 'Amazon',\n",
       " 'Meeting',\n",
       " 'Waters',\n",
       " 'Encontro',\n",
       " 'Águas',\n",
       " 'Manaus',\n",
       " 'City',\n",
       " 'River']"
      ]
     },
     "execution_count": 9,
     "metadata": {},
     "output_type": "execute_result"
    }
   ],
   "source": [
    "[x[0].title() for x in tags if x[1].startswith('N') and x[0].isalpha()]"
   ]
  },
  {
   "cell_type": "markdown",
   "id": "123f1ea4",
   "metadata": {},
   "source": [
    "#### Tagging Indian languages"
   ]
  },
  {
   "cell_type": "code",
   "execution_count": 11,
   "id": "78fe3135",
   "metadata": {},
   "outputs": [],
   "source": [
    "from nltk.corpus import indian\n",
    "from nltk.tag import TnT"
   ]
  },
  {
   "cell_type": "code",
   "execution_count": 14,
   "id": "37ff63cd",
   "metadata": {},
   "outputs": [
    {
     "name": "stdout",
     "output_type": "stream",
     "text": [
      "bangla.pos\n",
      "hindi.pos\n",
      "marathi.pos\n",
      "telugu.pos\n"
     ]
    }
   ],
   "source": [
    "for x in indian.fileids():\n",
    "    print(x)"
   ]
  },
  {
   "cell_type": "code",
   "execution_count": 17,
   "id": "9c4c56ee",
   "metadata": {},
   "outputs": [
    {
     "name": "stdout",
     "output_type": "stream",
     "text": [
      "bangla.pos\n",
      "10281\n",
      "hindi.pos\n",
      "9408\n",
      "marathi.pos\n",
      "19066\n",
      "telugu.pos\n",
      "9999\n"
     ]
    }
   ],
   "source": [
    "for x in indian.fileids():\n",
    "    print(x)\n",
    "    print(len(indian.words(x)))"
   ]
  },
  {
   "cell_type": "code",
   "execution_count": 18,
   "id": "76ed6e8f",
   "metadata": {},
   "outputs": [],
   "source": [
    "sents = indian.sents('marathi.pos')"
   ]
  },
  {
   "cell_type": "code",
   "execution_count": 19,
   "id": "2062be7b",
   "metadata": {},
   "outputs": [
    {
     "data": {
      "text/plain": [
       "[[\"''\", 'सनातनवाद्यांनी', 'व', 'प्रतिगाम्यांनी', 'समाज', 'रसातळाला', 'नेला', 'असताना', 'या', 'अंधारात', 'बाळशास्त्री', 'जांभेकर', 'यांनी', \"'दर्पण'च्या\", 'माध्यमातून', 'पहिली', 'ज्ञानज्योत', 'तेववली', ',', \"''\", 'असे', 'प्रतिपादन', 'नटसम्राट', 'प्रभाकर', 'पणशीकर', 'यांनी', 'केले', '.'], ['दर्पणकार', 'बाळशास्त्री', 'जांभेकर', 'यांच्या', '१९५व्या', 'जयंतीनिमित्त', 'महाराष्ट्र', 'संपादक', 'परिषद', 'व', 'सिंधुदुर्ग', 'जिल्हा', 'मराठी', 'पत्रकार', 'संघाच्या', 'वतीने', 'तसेच', 'महाराष्ट्र', 'जर्नलिस्ट', 'फाउंडेशन', 'व', 'महाराष्ट्र', 'ग्रामीण', 'पत्रकार', 'संघाच्या', 'सहभागाने', 'अभिवादन', 'कार्यक्रम', 'आयोजित', 'केला', 'होता', '.'], ...]"
      ]
     },
     "execution_count": 19,
     "metadata": {},
     "output_type": "execute_result"
    }
   ],
   "source": [
    "sents"
   ]
  },
  {
   "cell_type": "code",
   "execution_count": 37,
   "id": "2e872407",
   "metadata": {},
   "outputs": [],
   "source": [
    "pos = indian.tagged_sents('marathi.pos')"
   ]
  },
  {
   "cell_type": "code",
   "execution_count": 38,
   "id": "42e64a34",
   "metadata": {},
   "outputs": [
    {
     "data": {
      "text/plain": [
       "[[(\"''\", 'SYM'), ('सनातनवाद्यांनी', 'NN'), ('व', 'CC'), ('प्रतिगाम्यांनी', 'NN'), ('समाज', 'NN'), ('रसातळाला', 'NN'), ('नेला', 'VM'), ('असताना', 'VAUX'), ('या', 'DEM'), ('अंधारात', 'NN'), ('बाळशास्त्री', 'NNPC'), ('जांभेकर', 'NNP'), ('यांनी', 'PRP'), (\"'दर्पण'च्या\", 'NNP'), ('माध्यमातून', 'NN'), ('पहिली', 'QO'), ('ज्ञानज्योत', 'NN'), ('तेववली', 'VM'), (',', 'SYM'), (\"''\", 'SYM'), ('असे', 'DEM'), ('प्रतिपादन', 'NN'), ('नटसम्राट', 'NNPC'), ('प्रभाकर', 'NNPC'), ('पणशीकर', 'NNP'), ('यांनी', 'PRP'), ('केले', 'VM'), ('.', 'SYM')], [('दर्पणकार', 'JJ'), ('बाळशास्त्री', 'NNPC'), ('जांभेकर', 'NNP'), ('यांच्या', 'PRP'), ('१९५व्या', 'QC'), ('जयंतीनिमित्त', 'NN'), ('महाराष्ट्र', 'NNPC'), ('संपादक', 'NNPC'), ('परिषद', 'NNP'), ('व', 'CC'), ('सिंधुदुर्ग', 'NNPC'), ('जिल्हा', 'NNPC'), ('मराठी', 'NNPC'), ('पत्रकार', 'NNPC'), ('संघाच्या', 'NNP'), ('वतीने', 'NN'), ('तसेच', 'PRP'), ('महाराष्ट्र', 'NNPC'), ('जर्नलिस्ट', 'NNPC'), ('फाउंडेशन', 'NNP'), ('व', 'CC'), ('महाराष्ट्र', 'NNPC'), ('ग्रामीण', 'NNPC'), ('पत्रकार', 'NNPC'), ('संघाच्या', 'NNP'), ('सहभागाने', 'NN'), ('अभिवादन', 'NN'), ('कार्यक्रम', 'NN'), ('आयोजित', 'JJ'), ('केला', 'VM'), ('होता', 'VAUX'), ('.', 'SYM')], ...]"
      ]
     },
     "execution_count": 38,
     "metadata": {},
     "output_type": "execute_result"
    }
   ],
   "source": [
    "pos"
   ]
  },
  {
   "cell_type": "code",
   "execution_count": 39,
   "id": "a5034b4b",
   "metadata": {},
   "outputs": [],
   "source": [
    "tagger = TnT()"
   ]
  },
  {
   "cell_type": "code",
   "execution_count": 40,
   "id": "6a9067fc",
   "metadata": {},
   "outputs": [],
   "source": [
    "tagger.train(pos)"
   ]
  },
  {
   "cell_type": "code",
   "execution_count": 41,
   "id": "694fca58",
   "metadata": {},
   "outputs": [],
   "source": [
    "sent = 'सोमवारी हा सामना सुमारे आठ तास उशिरा सुरू नाहीये.'"
   ]
  },
  {
   "cell_type": "code",
   "execution_count": 42,
   "id": "23e056a0",
   "metadata": {},
   "outputs": [
    {
     "data": {
      "text/plain": [
       "[('सोमवारी', 'NNP'),\n",
       " ('हा', 'DEM'),\n",
       " ('सामना', 'NN'),\n",
       " ('सुमारे', 'QF'),\n",
       " ('आठ', 'QC'),\n",
       " ('तास', 'NN'),\n",
       " ('उशिरा', 'NN'),\n",
       " ('सुरू', 'JJ'),\n",
       " ('नाहीये', 'VM'),\n",
       " ('.', 'SYM')]"
      ]
     },
     "execution_count": 42,
     "metadata": {},
     "output_type": "execute_result"
    }
   ],
   "source": [
    "tagger.tag(word_tokenize(sent))"
   ]
  },
  {
   "cell_type": "code",
   "execution_count": null,
   "id": "a0137602",
   "metadata": {},
   "outputs": [],
   "source": []
  }
 ],
 "metadata": {
  "kernelspec": {
   "display_name": "Python 3",
   "language": "python",
   "name": "python3"
  },
  "language_info": {
   "codemirror_mode": {
    "name": "ipython",
    "version": 3
   },
   "file_extension": ".py",
   "mimetype": "text/x-python",
   "name": "python",
   "nbconvert_exporter": "python",
   "pygments_lexer": "ipython3",
   "version": "3.8.10"
  }
 },
 "nbformat": 4,
 "nbformat_minor": 5
}
