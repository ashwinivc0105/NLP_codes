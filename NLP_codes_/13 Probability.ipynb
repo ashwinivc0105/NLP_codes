{
 "cells": [
  {
   "cell_type": "code",
   "execution_count": 1,
   "id": "cd3cd21f",
   "metadata": {},
   "outputs": [],
   "source": [
    "import numpy as np\n",
    "import matplotlib.pyplot as plt"
   ]
  },
  {
   "cell_type": "code",
   "execution_count": 4,
   "id": "b8640347",
   "metadata": {},
   "outputs": [],
   "source": [
    "x = np.arange(-5, 5, 0.25)"
   ]
  },
  {
   "cell_type": "code",
   "execution_count": 5,
   "id": "89ffaf1f",
   "metadata": {},
   "outputs": [
    {
     "data": {
      "text/plain": [
       "array([-5.  , -4.75, -4.5 , -4.25, -4.  , -3.75, -3.5 , -3.25, -3.  ,\n",
       "       -2.75, -2.5 , -2.25, -2.  , -1.75, -1.5 , -1.25, -1.  , -0.75,\n",
       "       -0.5 , -0.25,  0.  ,  0.25,  0.5 ,  0.75,  1.  ,  1.25,  1.5 ,\n",
       "        1.75,  2.  ,  2.25,  2.5 ,  2.75,  3.  ,  3.25,  3.5 ,  3.75,\n",
       "        4.  ,  4.25,  4.5 ,  4.75])"
      ]
     },
     "execution_count": 5,
     "metadata": {},
     "output_type": "execute_result"
    }
   ],
   "source": [
    "x"
   ]
  },
  {
   "cell_type": "code",
   "execution_count": 6,
   "id": "dd389dd2",
   "metadata": {},
   "outputs": [],
   "source": [
    "y = x * 3.4 + 5.11"
   ]
  },
  {
   "cell_type": "code",
   "execution_count": 7,
   "id": "90800d21",
   "metadata": {},
   "outputs": [
    {
     "data": {
      "text/plain": [
       "array([-1.189e+01, -1.104e+01, -1.019e+01, -9.340e+00, -8.490e+00,\n",
       "       -7.640e+00, -6.790e+00, -5.940e+00, -5.090e+00, -4.240e+00,\n",
       "       -3.390e+00, -2.540e+00, -1.690e+00, -8.400e-01,  1.000e-02,\n",
       "        8.600e-01,  1.710e+00,  2.560e+00,  3.410e+00,  4.260e+00,\n",
       "        5.110e+00,  5.960e+00,  6.810e+00,  7.660e+00,  8.510e+00,\n",
       "        9.360e+00,  1.021e+01,  1.106e+01,  1.191e+01,  1.276e+01,\n",
       "        1.361e+01,  1.446e+01,  1.531e+01,  1.616e+01,  1.701e+01,\n",
       "        1.786e+01,  1.871e+01,  1.956e+01,  2.041e+01,  2.126e+01])"
      ]
     },
     "execution_count": 7,
     "metadata": {},
     "output_type": "execute_result"
    }
   ],
   "source": [
    "y"
   ]
  },
  {
   "cell_type": "code",
   "execution_count": 8,
   "id": "d502f2e5",
   "metadata": {},
   "outputs": [
    {
     "data": {
      "text/plain": [
       "[<matplotlib.lines.Line2D at 0x7f9cbde348e0>]"
      ]
     },
     "execution_count": 8,
     "metadata": {},
     "output_type": "execute_result"
    },
    {
     "data": {
      "image/png": "[encoded data removed]",
      "text/plain": [
       "<Figure size 432x288 with 1 Axes>"
      ]
     },
     "metadata": {
      "needs_background": "light"
     },
     "output_type": "display_data"
    }
   ],
   "source": [
    "plt.plot(x, y)"
   ]
  },
  {
   "cell_type": "markdown",
   "id": "bcef0740",
   "metadata": {},
   "source": [
    "#### Exponential Growth"
   ]
  },
  {
   "cell_type": "code",
   "execution_count": 9,
   "id": "e8481c39",
   "metadata": {},
   "outputs": [],
   "source": [
    "y = x ** 3"
   ]
  },
  {
   "cell_type": "code",
   "execution_count": 14,
   "id": "7467b180",
   "metadata": {},
   "outputs": [],
   "source": [
    "x1 = np.arange(0,10,0.25)\n",
    "y1 = x1 ** 5"
   ]
  },
  {
   "cell_type": "code",
   "execution_count": 15,
   "id": "0eb37c5c",
   "metadata": {},
   "outputs": [
    {
     "data": {
      "text/plain": [
       "[<matplotlib.lines.Line2D at 0x7f9cbdcda220>]"
      ]
     },
     "execution_count": 15,
     "metadata": {},
     "output_type": "execute_result"
    },
    {
     "data": {
      "image/png": "[encoded data removed]",
      "text/plain": [
       "<Figure size 432x288 with 1 Axes>"
      ]
     },
     "metadata": {
      "needs_background": "light"
     },
     "output_type": "display_data"
    }
   ],
   "source": [
    "plt.plot(x1, y1)"
   ]
  },
  {
   "cell_type": "markdown",
   "id": "fb9f4014",
   "metadata": {},
   "source": [
    "#### Sigmoid / logistic growth"
   ]
  },
  {
   "cell_type": "code",
   "execution_count": 19,
   "id": "c6ec1592",
   "metadata": {},
   "outputs": [],
   "source": [
    "def sigmoid(z):\n",
    "    val = 1/(1+np.exp(-z))\n",
    "    return val"
   ]
  },
  {
   "cell_type": "code",
   "execution_count": 20,
   "id": "66231226",
   "metadata": {},
   "outputs": [
    {
     "data": {
      "text/plain": [
       "array([0.00669285, 0.00857749, 0.01098694, 0.01406363, 0.01798621,\n",
       "       0.02297737, 0.02931223, 0.03732689, 0.04742587, 0.06008665,\n",
       "       0.07585818, 0.09534946, 0.11920292, 0.1480472 , 0.18242552,\n",
       "       0.22270014, 0.26894142, 0.3208213 , 0.37754067, 0.4378235 ,\n",
       "       0.5       , 0.5621765 , 0.62245933, 0.6791787 , 0.73105858,\n",
       "       0.77729986, 0.81757448, 0.8519528 , 0.88079708, 0.90465054,\n",
       "       0.92414182, 0.93991335, 0.95257413, 0.96267311, 0.97068777,\n",
       "       0.97702263, 0.98201379, 0.98593637, 0.98901306, 0.99142251])"
      ]
     },
     "execution_count": 20,
     "metadata": {},
     "output_type": "execute_result"
    }
   ],
   "source": [
    "sigmoid(x)"
   ]
  },
  {
   "cell_type": "code",
   "execution_count": 21,
   "id": "5e6e6ad8",
   "metadata": {},
   "outputs": [
    {
     "data": {
      "text/plain": [
       "[<matplotlib.lines.Line2D at 0x7f9cbd665ca0>]"
      ]
     },
     "execution_count": 21,
     "metadata": {},
     "output_type": "execute_result"
    },
    {
     "data": {
      "image/png": "[encoded data removed]",
      "text/plain": [
       "<Figure size 432x288 with 1 Axes>"
      ]
     },
     "metadata": {
      "needs_background": "light"
     },
     "output_type": "display_data"
    }
   ],
   "source": [
    "plt.plot(x, sigmoid(x))"
   ]
  },
  {
   "cell_type": "code",
   "execution_count": null,
   "id": "993b4352",
   "metadata": {},
   "outputs": [],
   "source": []
  }
 ],
 "metadata": {
  "kernelspec": {
   "display_name": "Python 3",
   "language": "python",
   "name": "python3"
  },
  "language_info": {
   "codemirror_mode": {
    "name": "ipython",
    "version": 3
   },
   "file_extension": ".py",
   "mimetype": "text/x-python",
   "name": "python",
   "nbconvert_exporter": "python",
   "pygments_lexer": "ipython3",
   "version": "3.8.10"
  }
 },
 "nbformat": 4,
 "nbformat_minor": 5
}
